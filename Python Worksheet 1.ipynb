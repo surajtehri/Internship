{
 "cells": [
  {
   "cell_type": "markdown",
   "id": "df7cd75a",
   "metadata": {},
   "source": [
    "# Q11 TO Q15"
   ]
  },
  {
   "cell_type": "markdown",
   "id": "be9afb41",
   "metadata": {},
   "source": [
    "Write a python program to find the factorial of a number."
   ]
  },
  {
   "cell_type": "code",
   "execution_count": 1,
   "id": "02df9d62",
   "metadata": {},
   "outputs": [],
   "source": [
    "#factorial of a number\n",
    "def factorial(x):\n",
    "    return 1 if (x==1 or x==0) else x * factorial(x - 1);"
   ]
  },
  {
   "cell_type": "code",
   "execution_count": 2,
   "id": "cf4e4b8a",
   "metadata": {},
   "outputs": [
    {
     "data": {
      "text/plain": [
       "120"
      ]
     },
     "execution_count": 2,
     "metadata": {},
     "output_type": "execute_result"
    }
   ],
   "source": [
    "factorial(5)"
   ]
  },
  {
   "cell_type": "markdown",
   "id": "4f61891b",
   "metadata": {},
   "source": [
    "Write a python program to find whether a number is prime or composite"
   ]
  },
  {
   "cell_type": "code",
   "execution_count": 8,
   "id": "4e79ba88",
   "metadata": {},
   "outputs": [
    {
     "name": "stdout",
     "output_type": "stream",
     "text": [
      "Enter number=7\n",
      "The number is prime\n"
     ]
    }
   ],
   "source": [
    "#prime or composite\n",
    "num=int(input(\"Enter number=\"))\n",
    "if num!=0 and num!=1:\n",
    "    for i in range(2,num):\n",
    "        if num%2==0:\n",
    "            print(\"The number is composite\")\n",
    "            break\n",
    "    else:\n",
    "         print(\"The number is prime\")\n",
    "else:\n",
    "    print(\"The number is neither prime nor composite\")"
   ]
  },
  {
   "cell_type": "markdown",
   "id": "ae8eb9ed",
   "metadata": {},
   "source": [
    "Write a python program to check whether a given string is palindrome or not."
   ]
  },
  {
   "cell_type": "code",
   "execution_count": 4,
   "id": "ae063190",
   "metadata": {},
   "outputs": [
    {
     "name": "stdout",
     "output_type": "stream",
     "text": [
      "Enter the word=naman\n",
      "The string is pallindrome\n"
     ]
    }
   ],
   "source": [
    "#pallindrome\n",
    "word=input(\"Enter the word=\")\n",
    "reverse_word=\"\"\n",
    "for i in range(len(word)-1,-1,-1):\n",
    "    reverse_word=reverse_word+word[i]\n",
    "if word==reverse_word:\n",
    "    print(\"The string is pallindrome\")\n",
    "else:\n",
    "    print(\"Not pallindrome\")"
   ]
  },
  {
   "cell_type": "markdown",
   "id": "5e66fb0a",
   "metadata": {},
   "source": [
    "Write a Python program to get the third side of right-angled triangle from two given sides"
   ]
  },
  {
   "cell_type": "code",
   "execution_count": 5,
   "id": "abdc49c9",
   "metadata": {},
   "outputs": [
    {
     "name": "stdout",
     "output_type": "stream",
     "text": [
      "Enter first side=3\n",
      "Enter second side=4\n",
      "The third side is 5\n"
     ]
    }
   ],
   "source": [
    "#Third side using pyhtagoras theorem\n",
    "a=int(input(\"Enter first side=\"))\n",
    "b=int(input(\"Enter second side=\"))\n",
    "c=(((a**2)+(b**2)))**(1/2)\n",
    "print(\"The third side is\",int (c))"
   ]
  },
  {
   "cell_type": "markdown",
   "id": "13626d57",
   "metadata": {},
   "source": [
    "Write a python program to print the frequency of each of the characters present in a given string"
   ]
  },
  {
   "cell_type": "code",
   "execution_count": 6,
   "id": "4411522b",
   "metadata": {},
   "outputs": [
    {
     "name": "stdout",
     "output_type": "stream",
     "text": [
      "Enter the string=mississippi\n",
      "{'m': 1, 'i': 4, 's': 4, 'p': 2}\n"
     ]
    }
   ],
   "source": [
    "#Frequency of each character\n",
    "x = input (\"Enter the string=\")\n",
    "y = dict()\n",
    "for i in x:\n",
    "    if i in y:\n",
    "        y[i] = y[i]+1\n",
    "    else:\n",
    "        y[i] = 1\n",
    "print (y)"
   ]
  },
  {
   "cell_type": "code",
   "execution_count": null,
   "id": "cc3f3bdb",
   "metadata": {},
   "outputs": [],
   "source": []
  },
  {
   "cell_type": "code",
   "execution_count": null,
   "id": "049984f2",
   "metadata": {},
   "outputs": [],
   "source": []
  }
 ],
 "metadata": {
  "kernelspec": {
   "display_name": "Python 3 (ipykernel)",
   "language": "python",
   "name": "python3"
  },
  "language_info": {
   "codemirror_mode": {
    "name": "ipython",
    "version": 3
   },
   "file_extension": ".py",
   "mimetype": "text/x-python",
   "name": "python",
   "nbconvert_exporter": "python",
   "pygments_lexer": "ipython3",
   "version": "3.9.7"
  }
 },
 "nbformat": 4,
 "nbformat_minor": 5
}
